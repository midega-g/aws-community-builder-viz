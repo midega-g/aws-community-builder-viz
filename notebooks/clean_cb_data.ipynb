{
 "cells": [
  {
   "cell_type": "code",
   "execution_count": null,
   "id": "5eb3c224",
   "metadata": {},
   "outputs": [],
   "source": [
    "import pandas as pd\n",
    "from hashlib import blake2b\n",
    "import re\n",
    "import pycountry\n",
    "import numpy as np\n",
    "import json\n",
    "\n",
    "\n",
    "\n",
    "df = pd.read_csv(\"../data/community_builders_raw.csv\").drop(columns=[\"cbName\", \"cbBioURL\", \"dateCreated\", \"dateUpdated\"]) \n",
    "\n",
    "# anonymize builder id\n",
    "df['id'] = df['id'].apply(lambda x: blake2b(str(x).encode(), digest_size=10).hexdigest())\n",
    "df.head()"
   ]
  },
  {
   "cell_type": "code",
   "execution_count": null,
   "id": "5d7ea503",
   "metadata": {},
   "outputs": [],
   "source": [
    "# getting 3 columns from cbCategory: category, year and the phrase\n",
    "# category will be used for categorization while year will be for QC\n",
    "\n",
    "df[['Category', 'phrase', 'year_since']] = df['cbCategory'].str.extract(\n",
    "    r'(.*?)\\s*(Builder|since|Builder since)\\s*(\\d{4})',\n",
    "    flags=re.IGNORECASE\n",
    ")\n",
    "df['Category'] = df['Category'].str.strip()"
   ]
  },
  {
   "cell_type": "code",
   "execution_count": null,
   "id": "cf71b785",
   "metadata": {},
   "outputs": [],
   "source": [
    "# check 1 if the process what successful\n",
    "df[df['Category'].isna()]"
   ]
  },
  {
   "cell_type": "code",
   "execution_count": null,
   "id": "73e9d5b7",
   "metadata": {},
   "outputs": [],
   "source": [
    "# check 2 if the process what successful\n",
    "df['year_since'].unique()"
   ]
  },
  {
   "cell_type": "code",
   "execution_count": null,
   "id": "2f499994",
   "metadata": {},
   "outputs": [],
   "source": [
    "# check 3 if the process what successful\n",
    "df['phrase'].unique()"
   ]
  },
  {
   "cell_type": "code",
   "execution_count": null,
   "id": "5a1e3f9b",
   "metadata": {},
   "outputs": [],
   "source": [
    "# check categories\n",
    "df['Category'].unique()"
   ]
  },
  {
   "cell_type": "code",
   "execution_count": null,
   "id": "dfcd9a2c",
   "metadata": {},
   "outputs": [],
   "source": [
    "# fix the categories\n",
    "df['Category'] = df['Category'].replace(\n",
    "    {\n",
    "        'GameTech': 'Game Tech',\n",
    "        'Network Content & Deliver': 'Networking & Content Delivery'\n",
    "    }\n",
    ")\n",
    "\n",
    "# recheck categories\n",
    "df['Category'].unique()"
   ]
  },
  {
   "cell_type": "code",
   "execution_count": null,
   "id": "44e59f58",
   "metadata": {},
   "outputs": [],
   "source": [
    "# check for missing year in the original year cols\n",
    "df['year'].unique()"
   ]
  },
  {
   "cell_type": "code",
   "execution_count": null,
   "id": "9b49a046",
   "metadata": {},
   "outputs": [],
   "source": [
    "df[df['year'].isna()]"
   ]
  },
  {
   "cell_type": "code",
   "execution_count": null,
   "id": "09e8724b",
   "metadata": {},
   "outputs": [],
   "source": [
    "# check for missing year in the extracted year cols \n",
    "df['year_since'].unique()"
   ]
  },
  {
   "cell_type": "code",
   "execution_count": null,
   "id": "358263fb",
   "metadata": {},
   "outputs": [],
   "source": [
    "# drop columns after cleaning and checks\n",
    "drop_cols_2 = ['cbCategory', 'year', 'phrase']\n",
    "df = df.drop(columns=drop_cols_2)"
   ]
  },
  {
   "cell_type": "code",
   "execution_count": null,
   "id": "937dfed5",
   "metadata": {},
   "outputs": [],
   "source": [
    "df[df['country'].isna()]"
   ]
  },
  {
   "cell_type": "code",
   "execution_count": null,
   "id": "eb997c36",
   "metadata": {},
   "outputs": [],
   "source": [
    "# Update country for specific rows (indices 205, 276, 596)\n",
    "df.loc[[205, 276, 596], 'country'] = df.loc[[205, 276, 596], 'cbLocation'].str.split(',').str[1].str.strip()\n",
    "df.iloc[[205, 276, 596]]"
   ]
  },
  {
   "cell_type": "code",
   "execution_count": null,
   "id": "549864d0",
   "metadata": {},
   "outputs": [],
   "source": [
    "# validate the countries present\n",
    "df['country'] = df['country'].str.strip()\n",
    "countries_ = [*df['country'].unique()]\n",
    "len(countries_)"
   ]
  },
  {
   "cell_type": "code",
   "execution_count": null,
   "id": "528ab11c",
   "metadata": {},
   "outputs": [],
   "source": [
    "df[df['country'].isna()]"
   ]
  },
  {
   "cell_type": "code",
   "execution_count": null,
   "id": "8fb11ca2",
   "metadata": {},
   "outputs": [],
   "source": [
    "pyc_countries = set(country.name for country in pycountry.countries)"
   ]
  },
  {
   "cell_type": "code",
   "execution_count": null,
   "id": "43c801c7",
   "metadata": {},
   "outputs": [],
   "source": [
    "np.array([c for c in countries_ if c not in pyc_countries])"
   ]
  },
  {
   "cell_type": "code",
   "execution_count": null,
   "id": "d5301699",
   "metadata": {},
   "outputs": [],
   "source": [
    "invalid_countries = ['Europe, Middle East, & Africa', 'Asia Pacific', \n",
    "                     'Central & Eastern Europe', 'Korea', \"Northern Ireland\", \n",
    "                     'Americas', 'Latin America', 'Europe', 'UK/IR', 'North America']\n",
    "df_val_countries = df[~df['country'].isin(invalid_countries)]\n",
    "filtered_df_invalid_countries = df[df['country'].isin(invalid_countries)]\n",
    "\n",
    "filtered_df_invalid_countries.head()"
   ]
  },
  {
   "cell_type": "code",
   "execution_count": null,
   "id": "63ff965b",
   "metadata": {},
   "outputs": [],
   "source": [
    "def extract_country(location):\n",
    "    if pd.isna(location):\n",
    "        return None\n",
    "    if ',' in location:\n",
    "        return location.split(',')[-1].strip()\n",
    "    return location.strip()\n",
    "\n",
    "filtered_df_invalid_countries['country_'] = filtered_df_invalid_countries['cbLocation'].apply(extract_country)\n"
   ]
  },
  {
   "cell_type": "code",
   "execution_count": null,
   "id": "d451a487",
   "metadata": {},
   "outputs": [],
   "source": [
    "filtered_df_invalid_countries.head()"
   ]
  },
  {
   "cell_type": "code",
   "execution_count": null,
   "id": "d26fb654",
   "metadata": {},
   "outputs": [],
   "source": [
    "filtered_df_invalid_countries['country_'].unique()"
   ]
  },
  {
   "cell_type": "code",
   "execution_count": null,
   "id": "f7219060",
   "metadata": {},
   "outputs": [],
   "source": [
    "# Dictionary for correcting country names\n",
    "country_corrections = {\n",
    "    'Aoterora': 'New Zealand', \n",
    "    'Sweden and Spain': 'Spain',\n",
    "    'UK': 'United Kingdom', \n",
    "    'Korea': 'South Korea',\n",
    "    'UK&I': 'United Kingdom',\n",
    "    'Northern Ireland': 'United Kingdom',\n",
    "    'Scotland': 'United Kingdom', \n",
    "    'United States of America': 'United States',\n",
    "    'St. Lucia': 'Saint Lucia',\n",
    "    'SriLanka': 'Sri Lanka',\n",
    "    'Somaliland': 'Somalia', \n",
    "    'Kurdistan': 'Turkey',  \n",
    "    'Republic of Ireland': 'Ireland',\n",
    "    'Republic of Moldova': 'Moldova'\n",
    "}\n",
    "\n",
    "# Apply corrections to the country column\n",
    "filtered_df_invalid_countries['country_'] = filtered_df_invalid_countries['country_'].replace(country_corrections)"
   ]
  },
  {
   "cell_type": "code",
   "execution_count": null,
   "id": "bf24ef85",
   "metadata": {},
   "outputs": [],
   "source": [
    "filtered_df_invalid_countries['country_'].unique()"
   ]
  },
  {
   "cell_type": "code",
   "execution_count": null,
   "id": "daea28ce",
   "metadata": {},
   "outputs": [],
   "source": [
    "df_val_countries.columns"
   ]
  },
  {
   "cell_type": "code",
   "execution_count": null,
   "id": "929a9b8a",
   "metadata": {},
   "outputs": [],
   "source": [
    "df_val_countries.shape"
   ]
  },
  {
   "cell_type": "code",
   "execution_count": null,
   "id": "b51d3416",
   "metadata": {},
   "outputs": [],
   "source": [
    "df_val_countries_2 = filtered_df_invalid_countries \\\n",
    "    .drop(columns=['country']) \\\n",
    "    .rename(columns={'country_': 'country'})"
   ]
  },
  {
   "cell_type": "code",
   "execution_count": null,
   "id": "fe70912a",
   "metadata": {},
   "outputs": [],
   "source": [
    "df_val_countries_2.columns"
   ]
  },
  {
   "cell_type": "code",
   "execution_count": null,
   "id": "ce212252",
   "metadata": {},
   "outputs": [],
   "source": [
    "# Concatenate the DataFrames\n",
    "result = pd.concat([df_val_countries, df_val_countries_2], ignore_index=True)\n",
    "result.head()"
   ]
  },
  {
   "cell_type": "code",
   "execution_count": null,
   "id": "68411460",
   "metadata": {},
   "outputs": [],
   "source": [
    "result['country'].unique()"
   ]
  },
  {
   "cell_type": "code",
   "execution_count": null,
   "id": "cd2b261b",
   "metadata": {},
   "outputs": [],
   "source": [
    "result['region'].unique()"
   ]
  },
  {
   "cell_type": "code",
   "execution_count": null,
   "id": "0b90bcf7",
   "metadata": {},
   "outputs": [],
   "source": [
    "with open('../data/country_regions.json', 'r') as file:\n",
    "    country_region_mapping = json.load(file)\n",
    "    \n",
    "result['region_'] = result['country'].map(country_region_mapping)\n",
    "result.head()"
   ]
  },
  {
   "cell_type": "code",
   "execution_count": null,
   "id": "63ebcdf3",
   "metadata": {},
   "outputs": [],
   "source": [
    "result['region_'].unique()"
   ]
  },
  {
   "cell_type": "code",
   "execution_count": null,
   "id": "d5f5f294",
   "metadata": {},
   "outputs": [],
   "source": [
    "result[result['region_'].isna()]"
   ]
  },
  {
   "cell_type": "code",
   "execution_count": null,
   "id": "1ab4a490",
   "metadata": {},
   "outputs": [],
   "source": [
    "df = result.drop(columns=['region', 'cbLocation']).rename(\n",
    "    columns= {\n",
    "        \"id\": \"ID\",\n",
    "        \"country\": \"Country\",\n",
    "        \"region_\": \"Region\",\n",
    "        \"year_since\": \"Year\"\n",
    "    }\n",
    ")"
   ]
  },
  {
   "cell_type": "code",
   "execution_count": null,
   "id": "9a4b3d58",
   "metadata": {},
   "outputs": [],
   "source": [
    "df.to_csv('community_builders.csv', index=False)"
   ]
  },
  {
   "cell_type": "code",
   "execution_count": null,
   "id": "91dea81c",
   "metadata": {},
   "outputs": [],
   "source": []
  }
 ],
 "metadata": {
  "kernelspec": {
   "display_name": ".venv",
   "language": "python",
   "name": "python3"
  },
  "language_info": {
   "codemirror_mode": {
    "name": "ipython",
    "version": 3
   },
   "file_extension": ".py",
   "mimetype": "text/x-python",
   "name": "python",
   "nbconvert_exporter": "python",
   "pygments_lexer": "ipython3",
   "version": "3.11.7"
  }
 },
 "nbformat": 4,
 "nbformat_minor": 5
}
