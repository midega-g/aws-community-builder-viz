{
 "cells": [
  {
   "cell_type": "code",
   "execution_count": 1,
   "id": "5eb3c224",
   "metadata": {},
   "outputs": [
    {
     "data": {
      "text/html": [
       "<div>\n",
       "<style scoped>\n",
       "    .dataframe tbody tr th:only-of-type {\n",
       "        vertical-align: middle;\n",
       "    }\n",
       "\n",
       "    .dataframe tbody tr th {\n",
       "        vertical-align: top;\n",
       "    }\n",
       "\n",
       "    .dataframe thead th {\n",
       "        text-align: right;\n",
       "    }\n",
       "</style>\n",
       "<table border=\"1\" class=\"dataframe\">\n",
       "  <thead>\n",
       "    <tr style=\"text-align: right;\">\n",
       "      <th></th>\n",
       "      <th>id</th>\n",
       "      <th>cbCategory</th>\n",
       "      <th>cbLocation</th>\n",
       "      <th>year</th>\n",
       "      <th>country</th>\n",
       "      <th>region</th>\n",
       "    </tr>\n",
       "  </thead>\n",
       "  <tbody>\n",
       "    <tr>\n",
       "      <th>0</th>\n",
       "      <td>e21ebe5d459aabe2bb9b</td>\n",
       "      <td>Front-End Web &amp; Mobile Builder since 2023</td>\n",
       "      <td>Dhaka, Bangladesh</td>\n",
       "      <td>2023.0</td>\n",
       "      <td>Bangladesh</td>\n",
       "      <td>Asia Pacific</td>\n",
       "    </tr>\n",
       "    <tr>\n",
       "      <th>1</th>\n",
       "      <td>5c9fa88eacddd0fa2dce</td>\n",
       "      <td>Serverless Builder since 2023</td>\n",
       "      <td>India</td>\n",
       "      <td>2023.0</td>\n",
       "      <td>India</td>\n",
       "      <td>Asia Pacific</td>\n",
       "    </tr>\n",
       "    <tr>\n",
       "      <th>2</th>\n",
       "      <td>83bdd669bd9adff56c19</td>\n",
       "      <td>Serverless Builder since 2021</td>\n",
       "      <td>Denver, USA</td>\n",
       "      <td>2021.0</td>\n",
       "      <td>United States</td>\n",
       "      <td>North America</td>\n",
       "    </tr>\n",
       "    <tr>\n",
       "      <th>3</th>\n",
       "      <td>8b6a321903b0e320d723</td>\n",
       "      <td>Security Builder since 2024</td>\n",
       "      <td>Annapolis, USA</td>\n",
       "      <td>2024.0</td>\n",
       "      <td>United States</td>\n",
       "      <td>North America</td>\n",
       "    </tr>\n",
       "    <tr>\n",
       "      <th>4</th>\n",
       "      <td>c419e576611b85049002</td>\n",
       "      <td>Containers Builder since 2024</td>\n",
       "      <td>Lome, Togo</td>\n",
       "      <td>2024.0</td>\n",
       "      <td>Europe, Middle East, &amp; Africa</td>\n",
       "      <td>NaN</td>\n",
       "    </tr>\n",
       "  </tbody>\n",
       "</table>\n",
       "</div>"
      ],
      "text/plain": [
       "                     id                                 cbCategory  \\\n",
       "0  e21ebe5d459aabe2bb9b  Front-End Web & Mobile Builder since 2023   \n",
       "1  5c9fa88eacddd0fa2dce              Serverless Builder since 2023   \n",
       "2  83bdd669bd9adff56c19              Serverless Builder since 2021   \n",
       "3  8b6a321903b0e320d723                Security Builder since 2024   \n",
       "4  c419e576611b85049002              Containers Builder since 2024   \n",
       "\n",
       "          cbLocation    year                        country         region  \n",
       "0  Dhaka, Bangladesh  2023.0                     Bangladesh   Asia Pacific  \n",
       "1              India  2023.0                          India   Asia Pacific  \n",
       "2        Denver, USA  2021.0                  United States  North America  \n",
       "3     Annapolis, USA  2024.0                  United States  North America  \n",
       "4         Lome, Togo  2024.0  Europe, Middle East, & Africa            NaN  "
      ]
     },
     "execution_count": 1,
     "metadata": {},
     "output_type": "execute_result"
    }
   ],
   "source": [
    "import pandas as pd\n",
    "from hashlib import blake2b\n",
    "import re\n",
    "import pycountry\n",
    "import numpy as np\n",
    "import json\n",
    "\n",
    "df = pd.read_csv(\"../data/community_builders_raw.csv\").drop(columns=[\"cbName\", \"cbBioURL\", \"dateCreated\", \"dateUpdated\"]) \n",
    "\n",
    "# anonymize builder id\n",
    "df['id'] = df['id'].apply(lambda x: blake2b(str(x).encode(), digest_size=10).hexdigest())\n",
    "df.head()"
   ]
  },
  {
   "cell_type": "code",
   "execution_count": 2,
   "id": "5d7ea503",
   "metadata": {},
   "outputs": [],
   "source": [
    "# getting 3 columns from cbCategory: category, year and the phrase\n",
    "# category will be used for categorization while year will be for QC\n",
    "\n",
    "df[['Category', 'phrase', 'year_since']] = df['cbCategory'].str.extract(\n",
    "    r'(.*?)\\s*(Builder|since|Builder since)\\s*(\\d{4})',\n",
    "    flags=re.IGNORECASE\n",
    ")\n",
    "df['Category'] = df['Category'].str.strip()"
   ]
  },
  {
   "cell_type": "code",
   "execution_count": 3,
   "id": "cf71b785",
   "metadata": {},
   "outputs": [
    {
     "data": {
      "text/html": [
       "<div>\n",
       "<style scoped>\n",
       "    .dataframe tbody tr th:only-of-type {\n",
       "        vertical-align: middle;\n",
       "    }\n",
       "\n",
       "    .dataframe tbody tr th {\n",
       "        vertical-align: top;\n",
       "    }\n",
       "\n",
       "    .dataframe thead th {\n",
       "        text-align: right;\n",
       "    }\n",
       "</style>\n",
       "<table border=\"1\" class=\"dataframe\">\n",
       "  <thead>\n",
       "    <tr style=\"text-align: right;\">\n",
       "      <th></th>\n",
       "      <th>id</th>\n",
       "      <th>cbCategory</th>\n",
       "      <th>cbLocation</th>\n",
       "      <th>year</th>\n",
       "      <th>country</th>\n",
       "      <th>region</th>\n",
       "      <th>Category</th>\n",
       "      <th>phrase</th>\n",
       "      <th>year_since</th>\n",
       "    </tr>\n",
       "  </thead>\n",
       "  <tbody>\n",
       "  </tbody>\n",
       "</table>\n",
       "</div>"
      ],
      "text/plain": [
       "Empty DataFrame\n",
       "Columns: [id, cbCategory, cbLocation, year, country, region, Category, phrase, year_since]\n",
       "Index: []"
      ]
     },
     "execution_count": 3,
     "metadata": {},
     "output_type": "execute_result"
    }
   ],
   "source": [
    "# check 1 if the process what successful\n",
    "df[df['Category'].isna()]"
   ]
  },
  {
   "cell_type": "code",
   "execution_count": 4,
   "id": "73e9d5b7",
   "metadata": {},
   "outputs": [
    {
     "data": {
      "text/plain": [
       "array(['2023', '2021', '2024', '2022', '2020'], dtype=object)"
      ]
     },
     "execution_count": 4,
     "metadata": {},
     "output_type": "execute_result"
    }
   ],
   "source": [
    "# check 2 if the process what successful\n",
    "df['year_since'].unique()"
   ]
  },
  {
   "cell_type": "code",
   "execution_count": 5,
   "id": "2f499994",
   "metadata": {},
   "outputs": [
    {
     "data": {
      "text/plain": [
       "array(['Builder since', 'since'], dtype=object)"
      ]
     },
     "execution_count": 5,
     "metadata": {},
     "output_type": "execute_result"
    }
   ],
   "source": [
    "# check 3 if the process what successful\n",
    "df['phrase'].unique()"
   ]
  },
  {
   "cell_type": "code",
   "execution_count": 6,
   "id": "5a1e3f9b",
   "metadata": {},
   "outputs": [
    {
     "data": {
      "text/plain": [
       "array(['Front-End Web & Mobile', 'Serverless', 'Security', 'Containers',\n",
       "       'Machine Learning', 'Cloud Operations', 'Dev Tools', 'Data',\n",
       "       'Game Tech', 'Storage', 'Networking & Content Delivery',\n",
       "       'Network Content & Delivery', 'Graviton Arm', 'GameTech'],\n",
       "      dtype=object)"
      ]
     },
     "execution_count": 6,
     "metadata": {},
     "output_type": "execute_result"
    }
   ],
   "source": [
    "# check categories\n",
    "df['Category'].unique()"
   ]
  },
  {
   "cell_type": "code",
   "execution_count": 7,
   "id": "dfcd9a2c",
   "metadata": {},
   "outputs": [
    {
     "data": {
      "text/plain": [
       "array(['Front-End Web & Mobile', 'Serverless', 'Security', 'Containers',\n",
       "       'Machine Learning', 'Cloud Operations', 'Dev Tools', 'Data',\n",
       "       'Game Tech', 'Storage', 'Networking & Content Delivery',\n",
       "       'Network Content & Delivery', 'Graviton Arm'], dtype=object)"
      ]
     },
     "execution_count": 7,
     "metadata": {},
     "output_type": "execute_result"
    }
   ],
   "source": [
    "# fix the categories\n",
    "df['Category'] = df['Category'].replace(\n",
    "    {\n",
    "        'GameTech': 'Game Tech',\n",
    "        'Network Content & Deliver': 'Networking & Content Delivery'\n",
    "    }\n",
    ")\n",
    "\n",
    "# recheck categories\n",
    "df['Category'].unique()"
   ]
  },
  {
   "cell_type": "code",
   "execution_count": 8,
   "id": "44e59f58",
   "metadata": {},
   "outputs": [
    {
     "data": {
      "text/plain": [
       "array([2023., 2021., 2024., 2022., 2020.,   nan])"
      ]
     },
     "execution_count": 8,
     "metadata": {},
     "output_type": "execute_result"
    }
   ],
   "source": [
    "# check for missing year in the original year cols\n",
    "df['year'].unique()"
   ]
  },
  {
   "cell_type": "code",
   "execution_count": 9,
   "id": "9b49a046",
   "metadata": {},
   "outputs": [
    {
     "data": {
      "text/html": [
       "<div>\n",
       "<style scoped>\n",
       "    .dataframe tbody tr th:only-of-type {\n",
       "        vertical-align: middle;\n",
       "    }\n",
       "\n",
       "    .dataframe tbody tr th {\n",
       "        vertical-align: top;\n",
       "    }\n",
       "\n",
       "    .dataframe thead th {\n",
       "        text-align: right;\n",
       "    }\n",
       "</style>\n",
       "<table border=\"1\" class=\"dataframe\">\n",
       "  <thead>\n",
       "    <tr style=\"text-align: right;\">\n",
       "      <th></th>\n",
       "      <th>id</th>\n",
       "      <th>cbCategory</th>\n",
       "      <th>cbLocation</th>\n",
       "      <th>year</th>\n",
       "      <th>country</th>\n",
       "      <th>region</th>\n",
       "      <th>Category</th>\n",
       "      <th>phrase</th>\n",
       "      <th>year_since</th>\n",
       "    </tr>\n",
       "  </thead>\n",
       "  <tbody>\n",
       "    <tr>\n",
       "      <th>1435</th>\n",
       "      <td>4b1a3832e6277a6b881a</td>\n",
       "      <td>Machine Learning Builder since 2022</td>\n",
       "      <td>Temuco, Chile</td>\n",
       "      <td>NaN</td>\n",
       "      <td>Chile</td>\n",
       "      <td>Latin America</td>\n",
       "      <td>Machine Learning</td>\n",
       "      <td>Builder since</td>\n",
       "      <td>2022</td>\n",
       "    </tr>\n",
       "  </tbody>\n",
       "</table>\n",
       "</div>"
      ],
      "text/plain": [
       "                        id                           cbCategory  \\\n",
       "1435  4b1a3832e6277a6b881a  Machine Learning Builder since 2022   \n",
       "\n",
       "         cbLocation  year country         region          Category  \\\n",
       "1435  Temuco, Chile   NaN   Chile  Latin America  Machine Learning   \n",
       "\n",
       "             phrase year_since  \n",
       "1435  Builder since       2022  "
      ]
     },
     "execution_count": 9,
     "metadata": {},
     "output_type": "execute_result"
    }
   ],
   "source": [
    "df[df['year'].isna()]"
   ]
  },
  {
   "cell_type": "code",
   "execution_count": 10,
   "id": "09e8724b",
   "metadata": {},
   "outputs": [
    {
     "data": {
      "text/plain": [
       "array(['2023', '2021', '2024', '2022', '2020'], dtype=object)"
      ]
     },
     "execution_count": 10,
     "metadata": {},
     "output_type": "execute_result"
    }
   ],
   "source": [
    "# check for missing year in the extracted year cols \n",
    "df['year_since'].unique()"
   ]
  },
  {
   "cell_type": "code",
   "execution_count": 11,
   "id": "358263fb",
   "metadata": {},
   "outputs": [],
   "source": [
    "# drop columns after cleaning and checks\n",
    "drop_cols_2 = ['cbCategory', 'year', 'phrase']\n",
    "df = df.drop(columns=drop_cols_2)"
   ]
  },
  {
   "cell_type": "code",
   "execution_count": 12,
   "id": "937dfed5",
   "metadata": {},
   "outputs": [
    {
     "data": {
      "text/html": [
       "<div>\n",
       "<style scoped>\n",
       "    .dataframe tbody tr th:only-of-type {\n",
       "        vertical-align: middle;\n",
       "    }\n",
       "\n",
       "    .dataframe tbody tr th {\n",
       "        vertical-align: top;\n",
       "    }\n",
       "\n",
       "    .dataframe thead th {\n",
       "        text-align: right;\n",
       "    }\n",
       "</style>\n",
       "<table border=\"1\" class=\"dataframe\">\n",
       "  <thead>\n",
       "    <tr style=\"text-align: right;\">\n",
       "      <th></th>\n",
       "      <th>id</th>\n",
       "      <th>cbLocation</th>\n",
       "      <th>country</th>\n",
       "      <th>region</th>\n",
       "      <th>Category</th>\n",
       "      <th>year_since</th>\n",
       "    </tr>\n",
       "  </thead>\n",
       "  <tbody>\n",
       "    <tr>\n",
       "      <th>205</th>\n",
       "      <td>176d6de9065eda609b30</td>\n",
       "      <td>Buea, Cameroon</td>\n",
       "      <td>NaN</td>\n",
       "      <td>NaN</td>\n",
       "      <td>Networking &amp; Content Delivery</td>\n",
       "      <td>2022</td>\n",
       "    </tr>\n",
       "    <tr>\n",
       "      <th>276</th>\n",
       "      <td>0da2b0adc5b494bf92d9</td>\n",
       "      <td>Toronto, Nicaragua</td>\n",
       "      <td>NaN</td>\n",
       "      <td>NaN</td>\n",
       "      <td>Networking &amp; Content Delivery</td>\n",
       "      <td>2021</td>\n",
       "    </tr>\n",
       "    <tr>\n",
       "      <th>596</th>\n",
       "      <td>ce0ad5af9ef110eba2ce</td>\n",
       "      <td>Dar es salaam, Tanzania</td>\n",
       "      <td>NaN</td>\n",
       "      <td>NaN</td>\n",
       "      <td>Networking &amp; Content Delivery</td>\n",
       "      <td>2022</td>\n",
       "    </tr>\n",
       "  </tbody>\n",
       "</table>\n",
       "</div>"
      ],
      "text/plain": [
       "                       id               cbLocation country region  \\\n",
       "205  176d6de9065eda609b30           Buea, Cameroon     NaN    NaN   \n",
       "276  0da2b0adc5b494bf92d9       Toronto, Nicaragua     NaN    NaN   \n",
       "596  ce0ad5af9ef110eba2ce  Dar es salaam, Tanzania     NaN    NaN   \n",
       "\n",
       "                          Category year_since  \n",
       "205  Networking & Content Delivery       2022  \n",
       "276  Networking & Content Delivery       2021  \n",
       "596  Networking & Content Delivery       2022  "
      ]
     },
     "execution_count": 12,
     "metadata": {},
     "output_type": "execute_result"
    }
   ],
   "source": [
    "df[df['country'].isna()]"
   ]
  },
  {
   "cell_type": "code",
   "execution_count": 13,
   "id": "eb997c36",
   "metadata": {},
   "outputs": [
    {
     "data": {
      "text/html": [
       "<div>\n",
       "<style scoped>\n",
       "    .dataframe tbody tr th:only-of-type {\n",
       "        vertical-align: middle;\n",
       "    }\n",
       "\n",
       "    .dataframe tbody tr th {\n",
       "        vertical-align: top;\n",
       "    }\n",
       "\n",
       "    .dataframe thead th {\n",
       "        text-align: right;\n",
       "    }\n",
       "</style>\n",
       "<table border=\"1\" class=\"dataframe\">\n",
       "  <thead>\n",
       "    <tr style=\"text-align: right;\">\n",
       "      <th></th>\n",
       "      <th>id</th>\n",
       "      <th>cbLocation</th>\n",
       "      <th>country</th>\n",
       "      <th>region</th>\n",
       "      <th>Category</th>\n",
       "      <th>year_since</th>\n",
       "    </tr>\n",
       "  </thead>\n",
       "  <tbody>\n",
       "    <tr>\n",
       "      <th>205</th>\n",
       "      <td>176d6de9065eda609b30</td>\n",
       "      <td>Buea, Cameroon</td>\n",
       "      <td>Cameroon</td>\n",
       "      <td>NaN</td>\n",
       "      <td>Networking &amp; Content Delivery</td>\n",
       "      <td>2022</td>\n",
       "    </tr>\n",
       "    <tr>\n",
       "      <th>276</th>\n",
       "      <td>0da2b0adc5b494bf92d9</td>\n",
       "      <td>Toronto, Nicaragua</td>\n",
       "      <td>Nicaragua</td>\n",
       "      <td>NaN</td>\n",
       "      <td>Networking &amp; Content Delivery</td>\n",
       "      <td>2021</td>\n",
       "    </tr>\n",
       "    <tr>\n",
       "      <th>596</th>\n",
       "      <td>ce0ad5af9ef110eba2ce</td>\n",
       "      <td>Dar es salaam, Tanzania</td>\n",
       "      <td>Tanzania</td>\n",
       "      <td>NaN</td>\n",
       "      <td>Networking &amp; Content Delivery</td>\n",
       "      <td>2022</td>\n",
       "    </tr>\n",
       "  </tbody>\n",
       "</table>\n",
       "</div>"
      ],
      "text/plain": [
       "                       id               cbLocation    country region  \\\n",
       "205  176d6de9065eda609b30           Buea, Cameroon   Cameroon    NaN   \n",
       "276  0da2b0adc5b494bf92d9       Toronto, Nicaragua  Nicaragua    NaN   \n",
       "596  ce0ad5af9ef110eba2ce  Dar es salaam, Tanzania   Tanzania    NaN   \n",
       "\n",
       "                          Category year_since  \n",
       "205  Networking & Content Delivery       2022  \n",
       "276  Networking & Content Delivery       2021  \n",
       "596  Networking & Content Delivery       2022  "
      ]
     },
     "execution_count": 13,
     "metadata": {},
     "output_type": "execute_result"
    }
   ],
   "source": [
    "# Update country for specific rows (indices 205, 276, 596)\n",
    "df.loc[[205, 276, 596], 'country'] = df.loc[[205, 276, 596], 'cbLocation'].str.split(',').str[1].str.strip()\n",
    "df.iloc[[205, 276, 596]]"
   ]
  },
  {
   "cell_type": "code",
   "execution_count": 14,
   "id": "549864d0",
   "metadata": {},
   "outputs": [
    {
     "data": {
      "text/plain": [
       "114"
      ]
     },
     "execution_count": 14,
     "metadata": {},
     "output_type": "execute_result"
    }
   ],
   "source": [
    "# validate the countries present\n",
    "df['country'] = df['country'].str.strip()\n",
    "countries_ = [*df['country'].unique()]\n",
    "len(countries_)"
   ]
  },
  {
   "cell_type": "code",
   "execution_count": 15,
   "id": "528ab11c",
   "metadata": {},
   "outputs": [
    {
     "data": {
      "text/html": [
       "<div>\n",
       "<style scoped>\n",
       "    .dataframe tbody tr th:only-of-type {\n",
       "        vertical-align: middle;\n",
       "    }\n",
       "\n",
       "    .dataframe tbody tr th {\n",
       "        vertical-align: top;\n",
       "    }\n",
       "\n",
       "    .dataframe thead th {\n",
       "        text-align: right;\n",
       "    }\n",
       "</style>\n",
       "<table border=\"1\" class=\"dataframe\">\n",
       "  <thead>\n",
       "    <tr style=\"text-align: right;\">\n",
       "      <th></th>\n",
       "      <th>id</th>\n",
       "      <th>cbLocation</th>\n",
       "      <th>country</th>\n",
       "      <th>region</th>\n",
       "      <th>Category</th>\n",
       "      <th>year_since</th>\n",
       "    </tr>\n",
       "  </thead>\n",
       "  <tbody>\n",
       "  </tbody>\n",
       "</table>\n",
       "</div>"
      ],
      "text/plain": [
       "Empty DataFrame\n",
       "Columns: [id, cbLocation, country, region, Category, year_since]\n",
       "Index: []"
      ]
     },
     "execution_count": 15,
     "metadata": {},
     "output_type": "execute_result"
    }
   ],
   "source": [
    "df[df['country'].isna()]"
   ]
  },
  {
   "cell_type": "code",
   "execution_count": 16,
   "id": "8fb11ca2",
   "metadata": {},
   "outputs": [],
   "source": [
    "pyc_countries = set(country.name for country in pycountry.countries)"
   ]
  },
  {
   "cell_type": "code",
   "execution_count": 17,
   "id": "43c801c7",
   "metadata": {},
   "outputs": [
    {
     "data": {
      "text/plain": [
       "array(['Europe, Middle East, & Africa', 'Czech Republic',\n",
       "       'Bosnia & Herzegovina', 'Asia Pacific', 'Russia', 'Scotland',\n",
       "       'Central & Eastern Europe', 'Vietnam', 'Turkey', 'Korea',\n",
       "       'Venezuela', 'Taiwan', 'Northern Ireland', 'Americas',\n",
       "       'Latin America', 'Tanzania', 'Palestine', 'Europe', 'UK/IR',\n",
       "       'North America', 'Syria', 'Wales', 'Moldova'], dtype='<U29')"
      ]
     },
     "execution_count": 17,
     "metadata": {},
     "output_type": "execute_result"
    }
   ],
   "source": [
    "np.array([c for c in countries_ if c not in pyc_countries])"
   ]
  },
  {
   "cell_type": "code",
   "execution_count": 18,
   "id": "d5301699",
   "metadata": {},
   "outputs": [
    {
     "data": {
      "text/html": [
       "<div>\n",
       "<style scoped>\n",
       "    .dataframe tbody tr th:only-of-type {\n",
       "        vertical-align: middle;\n",
       "    }\n",
       "\n",
       "    .dataframe tbody tr th {\n",
       "        vertical-align: top;\n",
       "    }\n",
       "\n",
       "    .dataframe thead th {\n",
       "        text-align: right;\n",
       "    }\n",
       "</style>\n",
       "<table border=\"1\" class=\"dataframe\">\n",
       "  <thead>\n",
       "    <tr style=\"text-align: right;\">\n",
       "      <th></th>\n",
       "      <th>id</th>\n",
       "      <th>cbLocation</th>\n",
       "      <th>country</th>\n",
       "      <th>region</th>\n",
       "      <th>Category</th>\n",
       "      <th>year_since</th>\n",
       "    </tr>\n",
       "  </thead>\n",
       "  <tbody>\n",
       "    <tr>\n",
       "      <th>4</th>\n",
       "      <td>c419e576611b85049002</td>\n",
       "      <td>Lome, Togo</td>\n",
       "      <td>Europe, Middle East, &amp; Africa</td>\n",
       "      <td>NaN</td>\n",
       "      <td>Containers</td>\n",
       "      <td>2024</td>\n",
       "    </tr>\n",
       "    <tr>\n",
       "      <th>75</th>\n",
       "      <td>f95ffe386c6dd16a7f09</td>\n",
       "      <td>Japan</td>\n",
       "      <td>Asia Pacific</td>\n",
       "      <td>NaN</td>\n",
       "      <td>Cloud Operations</td>\n",
       "      <td>2021</td>\n",
       "    </tr>\n",
       "    <tr>\n",
       "      <th>83</th>\n",
       "      <td>d68bb8f5ab815c020bca</td>\n",
       "      <td>Kathmandu, Nepal</td>\n",
       "      <td>Asia Pacific</td>\n",
       "      <td>NaN</td>\n",
       "      <td>Containers</td>\n",
       "      <td>2021</td>\n",
       "    </tr>\n",
       "    <tr>\n",
       "      <th>93</th>\n",
       "      <td>d90c352b2bc54d78c8ba</td>\n",
       "      <td>Cotonou, Benin</td>\n",
       "      <td>Europe, Middle East, &amp; Africa</td>\n",
       "      <td>NaN</td>\n",
       "      <td>Containers</td>\n",
       "      <td>2022</td>\n",
       "    </tr>\n",
       "    <tr>\n",
       "      <th>96</th>\n",
       "      <td>404784f9c415e70bebea</td>\n",
       "      <td>Sagamihara, Japan</td>\n",
       "      <td>Asia Pacific</td>\n",
       "      <td>NaN</td>\n",
       "      <td>Serverless</td>\n",
       "      <td>2020</td>\n",
       "    </tr>\n",
       "  </tbody>\n",
       "</table>\n",
       "</div>"
      ],
      "text/plain": [
       "                      id         cbLocation                        country  \\\n",
       "4   c419e576611b85049002         Lome, Togo  Europe, Middle East, & Africa   \n",
       "75  f95ffe386c6dd16a7f09              Japan                   Asia Pacific   \n",
       "83  d68bb8f5ab815c020bca   Kathmandu, Nepal                   Asia Pacific   \n",
       "93  d90c352b2bc54d78c8ba     Cotonou, Benin  Europe, Middle East, & Africa   \n",
       "96  404784f9c415e70bebea  Sagamihara, Japan                   Asia Pacific   \n",
       "\n",
       "   region          Category year_since  \n",
       "4     NaN        Containers       2024  \n",
       "75    NaN  Cloud Operations       2021  \n",
       "83    NaN        Containers       2021  \n",
       "93    NaN        Containers       2022  \n",
       "96    NaN        Serverless       2020  "
      ]
     },
     "execution_count": 18,
     "metadata": {},
     "output_type": "execute_result"
    }
   ],
   "source": [
    "invalid_countries = ['Europe, Middle East, & Africa', 'Asia Pacific', \n",
    "                     'Central & Eastern Europe', 'Korea', \"Northern Ireland\", \n",
    "                     'Americas', 'Latin America', 'Europe', 'UK/IR', 'North America']\n",
    "df_val_countries = df[~df['country'].isin(invalid_countries)]\n",
    "filtered_df_invalid_countries = df[df['country'].isin(invalid_countries)]\n",
    "\n",
    "filtered_df_invalid_countries.head()"
   ]
  },
  {
   "cell_type": "code",
   "execution_count": 19,
   "id": "63ff965b",
   "metadata": {},
   "outputs": [
    {
     "name": "stderr",
     "output_type": "stream",
     "text": [
      "/tmp/ipykernel_943088/3699712621.py:8: SettingWithCopyWarning: \n",
      "A value is trying to be set on a copy of a slice from a DataFrame.\n",
      "Try using .loc[row_indexer,col_indexer] = value instead\n",
      "\n",
      "See the caveats in the documentation: https://pandas.pydata.org/pandas-docs/stable/user_guide/indexing.html#returning-a-view-versus-a-copy\n",
      "  filtered_df_invalid_countries['country_'] = filtered_df_invalid_countries['cbLocation'].apply(extract_country)\n"
     ]
    }
   ],
   "source": [
    "def extract_country(location):\n",
    "    if pd.isna(location):\n",
    "        return None\n",
    "    if ',' in location:\n",
    "        return location.split(',')[-1].strip()\n",
    "    return location.strip()\n",
    "\n",
    "filtered_df_invalid_countries['country_'] = filtered_df_invalid_countries['cbLocation'].apply(extract_country)\n"
   ]
  },
  {
   "cell_type": "code",
   "execution_count": 20,
   "id": "d451a487",
   "metadata": {},
   "outputs": [
    {
     "data": {
      "text/html": [
       "<div>\n",
       "<style scoped>\n",
       "    .dataframe tbody tr th:only-of-type {\n",
       "        vertical-align: middle;\n",
       "    }\n",
       "\n",
       "    .dataframe tbody tr th {\n",
       "        vertical-align: top;\n",
       "    }\n",
       "\n",
       "    .dataframe thead th {\n",
       "        text-align: right;\n",
       "    }\n",
       "</style>\n",
       "<table border=\"1\" class=\"dataframe\">\n",
       "  <thead>\n",
       "    <tr style=\"text-align: right;\">\n",
       "      <th></th>\n",
       "      <th>id</th>\n",
       "      <th>cbLocation</th>\n",
       "      <th>country</th>\n",
       "      <th>region</th>\n",
       "      <th>Category</th>\n",
       "      <th>year_since</th>\n",
       "      <th>country_</th>\n",
       "    </tr>\n",
       "  </thead>\n",
       "  <tbody>\n",
       "    <tr>\n",
       "      <th>4</th>\n",
       "      <td>c419e576611b85049002</td>\n",
       "      <td>Lome, Togo</td>\n",
       "      <td>Europe, Middle East, &amp; Africa</td>\n",
       "      <td>NaN</td>\n",
       "      <td>Containers</td>\n",
       "      <td>2024</td>\n",
       "      <td>Togo</td>\n",
       "    </tr>\n",
       "    <tr>\n",
       "      <th>75</th>\n",
       "      <td>f95ffe386c6dd16a7f09</td>\n",
       "      <td>Japan</td>\n",
       "      <td>Asia Pacific</td>\n",
       "      <td>NaN</td>\n",
       "      <td>Cloud Operations</td>\n",
       "      <td>2021</td>\n",
       "      <td>Japan</td>\n",
       "    </tr>\n",
       "    <tr>\n",
       "      <th>83</th>\n",
       "      <td>d68bb8f5ab815c020bca</td>\n",
       "      <td>Kathmandu, Nepal</td>\n",
       "      <td>Asia Pacific</td>\n",
       "      <td>NaN</td>\n",
       "      <td>Containers</td>\n",
       "      <td>2021</td>\n",
       "      <td>Nepal</td>\n",
       "    </tr>\n",
       "    <tr>\n",
       "      <th>93</th>\n",
       "      <td>d90c352b2bc54d78c8ba</td>\n",
       "      <td>Cotonou, Benin</td>\n",
       "      <td>Europe, Middle East, &amp; Africa</td>\n",
       "      <td>NaN</td>\n",
       "      <td>Containers</td>\n",
       "      <td>2022</td>\n",
       "      <td>Benin</td>\n",
       "    </tr>\n",
       "    <tr>\n",
       "      <th>96</th>\n",
       "      <td>404784f9c415e70bebea</td>\n",
       "      <td>Sagamihara, Japan</td>\n",
       "      <td>Asia Pacific</td>\n",
       "      <td>NaN</td>\n",
       "      <td>Serverless</td>\n",
       "      <td>2020</td>\n",
       "      <td>Japan</td>\n",
       "    </tr>\n",
       "  </tbody>\n",
       "</table>\n",
       "</div>"
      ],
      "text/plain": [
       "                      id         cbLocation                        country  \\\n",
       "4   c419e576611b85049002         Lome, Togo  Europe, Middle East, & Africa   \n",
       "75  f95ffe386c6dd16a7f09              Japan                   Asia Pacific   \n",
       "83  d68bb8f5ab815c020bca   Kathmandu, Nepal                   Asia Pacific   \n",
       "93  d90c352b2bc54d78c8ba     Cotonou, Benin  Europe, Middle East, & Africa   \n",
       "96  404784f9c415e70bebea  Sagamihara, Japan                   Asia Pacific   \n",
       "\n",
       "   region          Category year_since country_  \n",
       "4     NaN        Containers       2024     Togo  \n",
       "75    NaN  Cloud Operations       2021    Japan  \n",
       "83    NaN        Containers       2021    Nepal  \n",
       "93    NaN        Containers       2022    Benin  \n",
       "96    NaN        Serverless       2020    Japan  "
      ]
     },
     "execution_count": 20,
     "metadata": {},
     "output_type": "execute_result"
    }
   ],
   "source": [
    "filtered_df_invalid_countries.head()"
   ]
  },
  {
   "cell_type": "code",
   "execution_count": 21,
   "id": "d26fb654",
   "metadata": {},
   "outputs": [
    {
     "data": {
      "text/plain": [
       "array(['Togo', 'Japan', 'Nepal', 'Benin', 'Bangladesh', 'Mozambique',\n",
       "       'Romania', 'Aoterora', 'Sweden and Spain', 'UK', 'South Korea',\n",
       "       'Cameroon', 'Northern Ireland', 'United States of America',\n",
       "       'Saint Lucia', 'Zimbabwe', 'Aruba', 'Spain', 'Belize', 'Korea',\n",
       "       'UK&I', 'Andorra', 'Barbados', 'St. Lucia', 'Scotland',\n",
       "       'Palestine', 'Democratic Republic of the Congo', 'SriLanka',\n",
       "       'Rwanda', 'Kurdistan', 'Portugal', 'Somaliland', 'United Kingdom',\n",
       "       'Republic of Ireland', 'Republic of Moldova', 'France'],\n",
       "      dtype=object)"
      ]
     },
     "execution_count": 21,
     "metadata": {},
     "output_type": "execute_result"
    }
   ],
   "source": [
    "filtered_df_invalid_countries['country_'].unique()"
   ]
  },
  {
   "cell_type": "code",
   "execution_count": 22,
   "id": "f7219060",
   "metadata": {},
   "outputs": [
    {
     "name": "stderr",
     "output_type": "stream",
     "text": [
      "/tmp/ipykernel_943088/114837686.py:20: SettingWithCopyWarning: \n",
      "A value is trying to be set on a copy of a slice from a DataFrame.\n",
      "Try using .loc[row_indexer,col_indexer] = value instead\n",
      "\n",
      "See the caveats in the documentation: https://pandas.pydata.org/pandas-docs/stable/user_guide/indexing.html#returning-a-view-versus-a-copy\n",
      "  filtered_df_invalid_countries['country_'] = filtered_df_invalid_countries['country_'].replace(country_corrections)\n"
     ]
    }
   ],
   "source": [
    "# Dictionary for correcting country names\n",
    "country_corrections = {\n",
    "    'Aoterora': 'New Zealand', \n",
    "    'Sweden and Spain': 'Spain',\n",
    "    'UK': 'United Kingdom', \n",
    "    'Korea': 'South Korea',\n",
    "    'UK&I': 'United Kingdom',\n",
    "    'Northern Ireland': 'United Kingdom',\n",
    "    'Scotland': 'United Kingdom', \n",
    "    'United States of America': 'United States',\n",
    "    'St. Lucia': 'Saint Lucia',\n",
    "    'SriLanka': 'Sri Lanka',\n",
    "    'Somaliland': 'Somalia', \n",
    "    'Kurdistan': 'Turkey',  \n",
    "    'Republic of Ireland': 'Ireland',\n",
    "    'Republic of Moldova': 'Moldova'\n",
    "}\n",
    "\n",
    "# Apply corrections to the country column\n",
    "filtered_df_invalid_countries['country_'] = filtered_df_invalid_countries['country_'].replace(country_corrections)"
   ]
  },
  {
   "cell_type": "code",
   "execution_count": 23,
   "id": "bf24ef85",
   "metadata": {},
   "outputs": [
    {
     "data": {
      "text/plain": [
       "array(['Togo', 'Japan', 'Nepal', 'Benin', 'Bangladesh', 'Mozambique',\n",
       "       'Romania', 'New Zealand', 'Spain', 'United Kingdom', 'South Korea',\n",
       "       'Cameroon', 'United States', 'Saint Lucia', 'Zimbabwe', 'Aruba',\n",
       "       'Belize', 'Andorra', 'Barbados', 'Palestine',\n",
       "       'Democratic Republic of the Congo', 'Sri Lanka', 'Rwanda',\n",
       "       'Turkey', 'Portugal', 'Somalia', 'Ireland', 'Moldova', 'France'],\n",
       "      dtype=object)"
      ]
     },
     "execution_count": 23,
     "metadata": {},
     "output_type": "execute_result"
    }
   ],
   "source": [
    "filtered_df_invalid_countries['country_'].unique()"
   ]
  },
  {
   "cell_type": "code",
   "execution_count": 24,
   "id": "daea28ce",
   "metadata": {},
   "outputs": [
    {
     "data": {
      "text/plain": [
       "Index(['id', 'cbLocation', 'country', 'region', 'Category', 'year_since'], dtype='object')"
      ]
     },
     "execution_count": 24,
     "metadata": {},
     "output_type": "execute_result"
    }
   ],
   "source": [
    "df_val_countries.columns"
   ]
  },
  {
   "cell_type": "code",
   "execution_count": 25,
   "id": "929a9b8a",
   "metadata": {},
   "outputs": [
    {
     "data": {
      "text/plain": [
       "(2129, 6)"
      ]
     },
     "execution_count": 25,
     "metadata": {},
     "output_type": "execute_result"
    }
   ],
   "source": [
    "df_val_countries.shape"
   ]
  },
  {
   "cell_type": "code",
   "execution_count": 26,
   "id": "b51d3416",
   "metadata": {},
   "outputs": [],
   "source": [
    "df_val_countries_2 = filtered_df_invalid_countries \\\n",
    "    .drop(columns=['country']) \\\n",
    "    .rename(columns={'country_': 'country'})"
   ]
  },
  {
   "cell_type": "code",
   "execution_count": 27,
   "id": "fe70912a",
   "metadata": {},
   "outputs": [
    {
     "data": {
      "text/plain": [
       "Index(['id', 'cbLocation', 'region', 'Category', 'year_since', 'country'], dtype='object')"
      ]
     },
     "execution_count": 27,
     "metadata": {},
     "output_type": "execute_result"
    }
   ],
   "source": [
    "df_val_countries_2.columns"
   ]
  },
  {
   "cell_type": "code",
   "execution_count": 28,
   "id": "ce212252",
   "metadata": {},
   "outputs": [
    {
     "data": {
      "text/html": [
       "<div>\n",
       "<style scoped>\n",
       "    .dataframe tbody tr th:only-of-type {\n",
       "        vertical-align: middle;\n",
       "    }\n",
       "\n",
       "    .dataframe tbody tr th {\n",
       "        vertical-align: top;\n",
       "    }\n",
       "\n",
       "    .dataframe thead th {\n",
       "        text-align: right;\n",
       "    }\n",
       "</style>\n",
       "<table border=\"1\" class=\"dataframe\">\n",
       "  <thead>\n",
       "    <tr style=\"text-align: right;\">\n",
       "      <th></th>\n",
       "      <th>id</th>\n",
       "      <th>cbLocation</th>\n",
       "      <th>country</th>\n",
       "      <th>region</th>\n",
       "      <th>Category</th>\n",
       "      <th>year_since</th>\n",
       "    </tr>\n",
       "  </thead>\n",
       "  <tbody>\n",
       "    <tr>\n",
       "      <th>0</th>\n",
       "      <td>e21ebe5d459aabe2bb9b</td>\n",
       "      <td>Dhaka, Bangladesh</td>\n",
       "      <td>Bangladesh</td>\n",
       "      <td>Asia Pacific</td>\n",
       "      <td>Front-End Web &amp; Mobile</td>\n",
       "      <td>2023</td>\n",
       "    </tr>\n",
       "    <tr>\n",
       "      <th>1</th>\n",
       "      <td>5c9fa88eacddd0fa2dce</td>\n",
       "      <td>India</td>\n",
       "      <td>India</td>\n",
       "      <td>Asia Pacific</td>\n",
       "      <td>Serverless</td>\n",
       "      <td>2023</td>\n",
       "    </tr>\n",
       "    <tr>\n",
       "      <th>2</th>\n",
       "      <td>83bdd669bd9adff56c19</td>\n",
       "      <td>Denver, USA</td>\n",
       "      <td>United States</td>\n",
       "      <td>North America</td>\n",
       "      <td>Serverless</td>\n",
       "      <td>2021</td>\n",
       "    </tr>\n",
       "    <tr>\n",
       "      <th>3</th>\n",
       "      <td>8b6a321903b0e320d723</td>\n",
       "      <td>Annapolis, USA</td>\n",
       "      <td>United States</td>\n",
       "      <td>North America</td>\n",
       "      <td>Security</td>\n",
       "      <td>2024</td>\n",
       "    </tr>\n",
       "    <tr>\n",
       "      <th>4</th>\n",
       "      <td>edbade2a45c0c2950103</td>\n",
       "      <td>Paris, France</td>\n",
       "      <td>France</td>\n",
       "      <td>Europe, Middle East, &amp; Africa</td>\n",
       "      <td>Machine Learning</td>\n",
       "      <td>2024</td>\n",
       "    </tr>\n",
       "  </tbody>\n",
       "</table>\n",
       "</div>"
      ],
      "text/plain": [
       "                     id         cbLocation        country  \\\n",
       "0  e21ebe5d459aabe2bb9b  Dhaka, Bangladesh     Bangladesh   \n",
       "1  5c9fa88eacddd0fa2dce              India          India   \n",
       "2  83bdd669bd9adff56c19        Denver, USA  United States   \n",
       "3  8b6a321903b0e320d723     Annapolis, USA  United States   \n",
       "4  edbade2a45c0c2950103      Paris, France         France   \n",
       "\n",
       "                          region                Category year_since  \n",
       "0                   Asia Pacific  Front-End Web & Mobile       2023  \n",
       "1                   Asia Pacific              Serverless       2023  \n",
       "2                  North America              Serverless       2021  \n",
       "3                  North America                Security       2024  \n",
       "4  Europe, Middle East, & Africa        Machine Learning       2024  "
      ]
     },
     "execution_count": 28,
     "metadata": {},
     "output_type": "execute_result"
    }
   ],
   "source": [
    "# Concatenate the DataFrames\n",
    "result = pd.concat([df_val_countries, df_val_countries_2], ignore_index=True)\n",
    "result.head()"
   ]
  },
  {
   "cell_type": "code",
   "execution_count": 29,
   "id": "68411460",
   "metadata": {},
   "outputs": [
    {
     "data": {
      "text/plain": [
       "array(['Bangladesh', 'India', 'United States', 'France', 'Egypt',\n",
       "       'Indonesia', 'United Arab Emirates', 'Pakistan', 'United Kingdom',\n",
       "       'Saudi Arabia', 'Mexico', 'New Zealand', 'Canada', 'Nepal',\n",
       "       'Nigeria', 'Sri Lanka', 'Czech Republic', 'Poland', 'Kenya',\n",
       "       'South Africa', 'Spain', 'Hungary', 'Iraq', 'Bosnia & Herzegovina',\n",
       "       'Malaysia', 'Qatar', 'Singapore', 'Russia', 'Finland', 'Japan',\n",
       "       'Australia', 'Brazil', 'Colombia', 'Serbia', 'Kazakhstan', 'Italy',\n",
       "       'Hong Kong', 'Scotland', 'Germany', 'Thailand', 'Peru', 'Romania',\n",
       "       'Ecuador', 'Israel', 'Belarus', 'Sweden', 'Vietnam', 'Costa Rica',\n",
       "       'Switzerland', 'Chile', 'Austria', 'Cameroon', 'North Macedonia',\n",
       "       'Ukraine', 'Philippines', 'Denmark', 'Jamaica', 'Nicaragua',\n",
       "       'Norway', 'Netherlands', 'Turkey', 'Mauritius', 'Argentina',\n",
       "       'Venezuela', 'Taiwan', 'Ireland', 'Portugal', 'China', 'Panama',\n",
       "       'Greece', 'Tunisia', 'Botswana', 'Bulgaria', 'Ghana', 'Tanzania',\n",
       "       'Latvia', 'Uruguay', 'Palestine', 'Malta', 'Georgia', 'Jordan',\n",
       "       'Myanmar', 'Lebanon', 'Chad', 'Puerto Rico', 'El Salvador',\n",
       "       'Slovakia', 'Sudan', 'Armenia', 'Belgium', 'Montenegro',\n",
       "       'Slovenia', 'Bahrain', 'Kuwait', 'Yemen', 'Syria', 'Morocco',\n",
       "       'Estonia', 'Wales', 'Uzbekistan', 'Algeria', 'Zimbabwe', 'Moldova',\n",
       "       'Cyprus', 'Togo', 'Benin', 'Mozambique', 'South Korea',\n",
       "       'Saint Lucia', 'Aruba', 'Belize', 'Andorra', 'Barbados',\n",
       "       'Democratic Republic of the Congo', 'Rwanda', 'Somalia'],\n",
       "      dtype=object)"
      ]
     },
     "execution_count": 29,
     "metadata": {},
     "output_type": "execute_result"
    }
   ],
   "source": [
    "result['country'].unique()"
   ]
  },
  {
   "cell_type": "code",
   "execution_count": 30,
   "id": "cd2b261b",
   "metadata": {},
   "outputs": [
    {
     "data": {
      "text/plain": [
       "array(['Asia Pacific', 'North America', 'Europe, Middle East, & Africa',\n",
       "       'Latin America', nan, 'United States', 'Europe'], dtype=object)"
      ]
     },
     "execution_count": 30,
     "metadata": {},
     "output_type": "execute_result"
    }
   ],
   "source": [
    "result['region'].unique()"
   ]
  },
  {
   "cell_type": "code",
   "execution_count": 31,
   "id": "0b90bcf7",
   "metadata": {},
   "outputs": [
    {
     "data": {
      "text/html": [
       "<div>\n",
       "<style scoped>\n",
       "    .dataframe tbody tr th:only-of-type {\n",
       "        vertical-align: middle;\n",
       "    }\n",
       "\n",
       "    .dataframe tbody tr th {\n",
       "        vertical-align: top;\n",
       "    }\n",
       "\n",
       "    .dataframe thead th {\n",
       "        text-align: right;\n",
       "    }\n",
       "</style>\n",
       "<table border=\"1\" class=\"dataframe\">\n",
       "  <thead>\n",
       "    <tr style=\"text-align: right;\">\n",
       "      <th></th>\n",
       "      <th>id</th>\n",
       "      <th>cbLocation</th>\n",
       "      <th>country</th>\n",
       "      <th>region</th>\n",
       "      <th>Category</th>\n",
       "      <th>year_since</th>\n",
       "      <th>region_</th>\n",
       "    </tr>\n",
       "  </thead>\n",
       "  <tbody>\n",
       "    <tr>\n",
       "      <th>0</th>\n",
       "      <td>e21ebe5d459aabe2bb9b</td>\n",
       "      <td>Dhaka, Bangladesh</td>\n",
       "      <td>Bangladesh</td>\n",
       "      <td>Asia Pacific</td>\n",
       "      <td>Front-End Web &amp; Mobile</td>\n",
       "      <td>2023</td>\n",
       "      <td>Asia Pacific</td>\n",
       "    </tr>\n",
       "    <tr>\n",
       "      <th>1</th>\n",
       "      <td>5c9fa88eacddd0fa2dce</td>\n",
       "      <td>India</td>\n",
       "      <td>India</td>\n",
       "      <td>Asia Pacific</td>\n",
       "      <td>Serverless</td>\n",
       "      <td>2023</td>\n",
       "      <td>Asia Pacific</td>\n",
       "    </tr>\n",
       "    <tr>\n",
       "      <th>2</th>\n",
       "      <td>83bdd669bd9adff56c19</td>\n",
       "      <td>Denver, USA</td>\n",
       "      <td>United States</td>\n",
       "      <td>North America</td>\n",
       "      <td>Serverless</td>\n",
       "      <td>2021</td>\n",
       "      <td>North America</td>\n",
       "    </tr>\n",
       "    <tr>\n",
       "      <th>3</th>\n",
       "      <td>8b6a321903b0e320d723</td>\n",
       "      <td>Annapolis, USA</td>\n",
       "      <td>United States</td>\n",
       "      <td>North America</td>\n",
       "      <td>Security</td>\n",
       "      <td>2024</td>\n",
       "      <td>North America</td>\n",
       "    </tr>\n",
       "    <tr>\n",
       "      <th>4</th>\n",
       "      <td>edbade2a45c0c2950103</td>\n",
       "      <td>Paris, France</td>\n",
       "      <td>France</td>\n",
       "      <td>Europe, Middle East, &amp; Africa</td>\n",
       "      <td>Machine Learning</td>\n",
       "      <td>2024</td>\n",
       "      <td>Europe, Middle East, &amp; Africa</td>\n",
       "    </tr>\n",
       "  </tbody>\n",
       "</table>\n",
       "</div>"
      ],
      "text/plain": [
       "                     id         cbLocation        country  \\\n",
       "0  e21ebe5d459aabe2bb9b  Dhaka, Bangladesh     Bangladesh   \n",
       "1  5c9fa88eacddd0fa2dce              India          India   \n",
       "2  83bdd669bd9adff56c19        Denver, USA  United States   \n",
       "3  8b6a321903b0e320d723     Annapolis, USA  United States   \n",
       "4  edbade2a45c0c2950103      Paris, France         France   \n",
       "\n",
       "                          region                Category year_since  \\\n",
       "0                   Asia Pacific  Front-End Web & Mobile       2023   \n",
       "1                   Asia Pacific              Serverless       2023   \n",
       "2                  North America              Serverless       2021   \n",
       "3                  North America                Security       2024   \n",
       "4  Europe, Middle East, & Africa        Machine Learning       2024   \n",
       "\n",
       "                         region_  \n",
       "0                   Asia Pacific  \n",
       "1                   Asia Pacific  \n",
       "2                  North America  \n",
       "3                  North America  \n",
       "4  Europe, Middle East, & Africa  "
      ]
     },
     "execution_count": 31,
     "metadata": {},
     "output_type": "execute_result"
    }
   ],
   "source": [
    "with open('../data/country_regions.json', 'r') as file:\n",
    "    country_region_mapping = json.load(file)\n",
    "    \n",
    "result['region_'] = result['country'].map(country_region_mapping)\n",
    "result.head()"
   ]
  },
  {
   "cell_type": "code",
   "execution_count": 32,
   "id": "63ebcdf3",
   "metadata": {},
   "outputs": [
    {
     "data": {
      "text/plain": [
       "array(['Asia Pacific', 'North America', 'Europe, Middle East, & Africa',\n",
       "       'Latin America'], dtype=object)"
      ]
     },
     "execution_count": 32,
     "metadata": {},
     "output_type": "execute_result"
    }
   ],
   "source": [
    "result['region_'].unique()"
   ]
  },
  {
   "cell_type": "code",
   "execution_count": 33,
   "id": "d5f5f294",
   "metadata": {},
   "outputs": [
    {
     "data": {
      "text/html": [
       "<div>\n",
       "<style scoped>\n",
       "    .dataframe tbody tr th:only-of-type {\n",
       "        vertical-align: middle;\n",
       "    }\n",
       "\n",
       "    .dataframe tbody tr th {\n",
       "        vertical-align: top;\n",
       "    }\n",
       "\n",
       "    .dataframe thead th {\n",
       "        text-align: right;\n",
       "    }\n",
       "</style>\n",
       "<table border=\"1\" class=\"dataframe\">\n",
       "  <thead>\n",
       "    <tr style=\"text-align: right;\">\n",
       "      <th></th>\n",
       "      <th>id</th>\n",
       "      <th>cbLocation</th>\n",
       "      <th>country</th>\n",
       "      <th>region</th>\n",
       "      <th>Category</th>\n",
       "      <th>year_since</th>\n",
       "      <th>region_</th>\n",
       "    </tr>\n",
       "  </thead>\n",
       "  <tbody>\n",
       "  </tbody>\n",
       "</table>\n",
       "</div>"
      ],
      "text/plain": [
       "Empty DataFrame\n",
       "Columns: [id, cbLocation, country, region, Category, year_since, region_]\n",
       "Index: []"
      ]
     },
     "execution_count": 33,
     "metadata": {},
     "output_type": "execute_result"
    }
   ],
   "source": [
    "result[result['region_'].isna()]"
   ]
  },
  {
   "cell_type": "code",
   "execution_count": 34,
   "id": "1ab4a490",
   "metadata": {},
   "outputs": [],
   "source": [
    "df = result.drop(columns=['region', 'cbLocation']).rename(\n",
    "    columns= {\n",
    "        \"id\": \"ID\",\n",
    "        \"country\": \"Country\",\n",
    "        \"region_\": \"Region\",\n",
    "        \"year_since\": \"Year\"\n",
    "    }\n",
    ")"
   ]
  },
  {
   "cell_type": "code",
   "execution_count": 35,
   "id": "9a4b3d58",
   "metadata": {},
   "outputs": [],
   "source": [
    "df.to_csv('community_builders.csv', index=False)"
   ]
  },
  {
   "cell_type": "code",
   "execution_count": null,
   "id": "91dea81c",
   "metadata": {},
   "outputs": [],
   "source": []
  }
 ],
 "metadata": {
  "kernelspec": {
   "display_name": ".venv",
   "language": "python",
   "name": "python3"
  },
  "language_info": {
   "codemirror_mode": {
    "name": "ipython",
    "version": 3
   },
   "file_extension": ".py",
   "mimetype": "text/x-python",
   "name": "python",
   "nbconvert_exporter": "python",
   "pygments_lexer": "ipython3",
   "version": "3.11.7"
  }
 },
 "nbformat": 4,
 "nbformat_minor": 5
}
